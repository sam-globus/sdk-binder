{
 "cells": [
  {
   "cell_type": "markdown",
   "id": "2a8edddd-ae13-4450-98c8-425914e2e874",
   "metadata": {
    "tags": []
   },
   "source": [
    "# Globus /Authorization Options\n",
    "\n",
    "This document describes the various options that are available during authorization. \n",
    "\n",
    "Original documentation: [Globus Auth Documentation](https://docs.globus.org/api/auth/reference/#authorization_code_grant_preferred)"
   ]
  },
  {
   "cell_type": "markdown",
   "id": "5d869f32-140a-4b3d-815e-5076350cf553",
   "metadata": {},
   "source": [
    "## Imports and a Shared Function"
   ]
  },
  {
   "cell_type": "code",
   "execution_count": 12,
   "id": "6580cd48-d869-478c-9bb3-def1faa49a88",
   "metadata": {},
   "outputs": [],
   "source": [
    "# Imports and a shared function\n",
    "import json\n",
    "import globus_sdk\n",
    "import os\n",
    "os.environ['GLOBUS_SDK_ENVIRONMENT'] = 'test'\n",
    "\n",
    "def authorize(params: dict, scopes: list):  \n",
    "  nc = globus_sdk.NativeAppAuthClient(\"8e6ad92c-7a24-4d2b-933f-36d97297d36c\", app_name=\"Sams Test 1\")\n",
    "  nc.oauth2_start_flow(requested_scopes=scopes)\n",
    "  authorize_url = nc.oauth2_get_authorize_url(query_params = params)\n",
    "  print(\"Please go to this URL and login: {0}\".format(authorize_url))"
   ]
  },
  {
   "cell_type": "markdown",
   "id": "8e3393f1-f909-4680-90eb-c23c3ab4f991",
   "metadata": {},
   "source": [
    "## Scopes"
   ]
  },
  {
   "cell_type": "code",
   "execution_count": 14,
   "id": "932368e1-a447-4ea8-b864-b8d76400bd36",
   "metadata": {},
   "outputs": [
    {
     "name": "stdout",
     "output_type": "stream",
     "text": [
      "Please go to this URL and login: https://auth.test.globuscs.info/v2/oauth2/authorize?client_id=8e6ad92c-7a24-4d2b-933f-36d97297d36c&redirect_uri=https%3A%2F%2Fauth.test.globuscs.info%2Fv2%2Fweb%2Fauth-code&scope=openid&state=_default&response_type=code&code_challenge=VA7LhoVj72mQ7sNrtwHosiooG-HFLM5HxfrT-Z37Dm8&code_challenge_method=S256&access_type=online\n"
     ]
    }
   ],
   "source": [
    "params = {}\n",
    "scopes = ['openid']\n",
    "authorize(params, scopes)"
   ]
  },
  {
   "cell_type": "markdown",
   "id": "862c5f55-a3fa-4ca7-8d94-8266a5075d69",
   "metadata": {},
   "source": [
    "## Static Dependencies\n",
    "\n",
    "We've spoken about this a lot, going to skip."
   ]
  },
  {
   "cell_type": "markdown",
   "id": "9858e755-5089-4ccc-ab1a-b61b88eb4c8c",
   "metadata": {},
   "source": [
    "## Dynamic Dependencies"
   ]
  },
  {
   "cell_type": "code",
   "execution_count": 18,
   "id": "74808bb3-ff53-4649-b5cf-63be1efbb6db",
   "metadata": {},
   "outputs": [
    {
     "name": "stdout",
     "output_type": "stream",
     "text": [
      "Please go to this URL and login: https://auth.test.globuscs.info/v2/oauth2/authorize?client_id=8e6ad92c-7a24-4d2b-933f-36d97297d36c&redirect_uri=https%3A%2F%2Fauth.test.globuscs.info%2Fv2%2Fweb%2Fauth-code&scope=openid+profile%5Burn%3Aglobus%3Aauth%3Ascope%3Agroups.api.globus.org%3Aall%5B%2Aopenid%5D%5D&state=_default&response_type=code&code_challenge=G0aKrhiuwvoWypQspm2npPIB7J70fZ_jOdeI_BHBDtU&code_challenge_method=S256&access_type=online\n"
     ]
    }
   ],
   "source": [
    "scopes = ['profile[urn:globus:auth:scope:groups.api.globus.org:all]']\n",
    "authorize(params, scopes)"
   ]
  },
  {
   "cell_type": "code",
   "execution_count": 19,
   "id": "9b4b5086-22f7-4a14-80a9-eb2cf9bde5fa",
   "metadata": {},
   "outputs": [
    {
     "name": "stdout",
     "output_type": "stream",
     "text": [
      "Please go to this URL and login: https://auth.test.globuscs.info/v2/oauth2/authorize?client_id=8e6ad92c-7a24-4d2b-933f-36d97297d36c&redirect_uri=https%3A%2F%2Fauth.test.globuscs.info%2Fv2%2Fweb%2Fauth-code&scope=openid+profile%5Burn%3Aglobus%3Aauth%3Ascope%3Agroups.api.globus.org%3Aall%5B%2Aopenid%5D%5D&state=_default&response_type=code&code_challenge=UH1QnZO593yFPkfYq48NTHDQXmnXbEW9GNuCbZiZBO4&code_challenge_method=S256&access_type=online\n"
     ]
    }
   ],
   "source": [
    "scopes = ['openid', \n",
    "          'profile[urn:globus:auth:scope:groups.api.globus.org:all[*openid]]']\n",
    "authorize(params, scopes)"
   ]
  },
  {
   "cell_type": "code",
   "execution_count": 16,
   "id": "11494d12-aa40-4f6e-ac25-b32162ca8b2c",
   "metadata": {},
   "outputs": [
    {
     "name": "stdout",
     "output_type": "stream",
     "text": [
      "Please go to this URL and login: https://auth.test.globuscs.info/v2/oauth2/authorize?client_id=8e6ad92c-7a24-4d2b-933f-36d97297d36c&redirect_uri=https%3A%2F%2Fauth.test.globuscs.info%2Fv2%2Fweb%2Fauth-code&scope=urn%3Aglobus%3Aauth%3Ascope%3Atransfer.api.globus.org%3Aall%5B%2Ahttps%3A%2F%2Fauth.globus.org%2Fscopes%2F431d5680-c754-41b6-9368-126137f88c21%2Fdata_access%5D+%2Ahttps%3A%2F%2Fauth.globus.org%2Fscopes%2F431d5680-c754-41b6-9368-126137f88c21%2Fhttps+%2Ahttps%3A%2F%2Fauth.globus.org%2Fscopes%2F431d5680-c754-41b6-9368-126137f88c21%2Fdata_access+%2Aurn%3Aglobus%3Aauth%3Ascope%3A1fb4fd72-c31a-483d-8f04-f795ccb3b4e0%3Amanage_collections%5B%2Ahttps%3A%2F%2Fauth.globus.org%2Fscopes%2F431d5680-c754-41b6-9368-126137f88c21%2Fdata_access%5D&state=_default&response_type=code&code_challenge=ZDnEHMsoyvzziWRTAr9Qb6TOdJFIdOGVJgj6Dluqtck&code_challenge_method=S256&access_type=online\n"
     ]
    }
   ],
   "source": [
    "## Real-world: Transfer scope\n",
    "scopes = [\n",
    "    'urn:globus:auth:scope:transfer.api.globus.org:all[*https://auth.globus.org/scopes/431d5680-c754-41b6-9368-126137f88c21/data_access]',\n",
    "    '*https://auth.globus.org/scopes/431d5680-c754-41b6-9368-126137f88c21/https',\n",
    "    '*https://auth.globus.org/scopes/431d5680-c754-41b6-9368-126137f88c21/data_access', \n",
    "    '*urn:globus:auth:scope:1fb4fd72-c31a-483d-8f04-f795ccb3b4e0:manage_collections[*https://auth.globus.org/scopes/431d5680-c754-41b6-9368-126137f88c21/data_access]']\n",
    "authorize(params, scopes)"
   ]
  },
  {
   "cell_type": "markdown",
   "id": "1b3c680c-8371-4ceb-9b4a-a8753c68da09",
   "metadata": {
    "tags": []
   },
   "source": [
    "## Authorization Options"
   ]
  },
  {
   "cell_type": "code",
   "execution_count": 17,
   "id": "9e58a4f6-2a28-4cd7-81a3-d8fb4960408a",
   "metadata": {},
   "outputs": [],
   "source": [
    "scopes = ['openid profile[urn:globus:auth:scope:groups.api.globus.org:all[*openid]]']"
   ]
  },
  {
   "cell_type": "code",
   "execution_count": 4,
   "id": "f8408bb8-b382-4fbb-8ceb-944d1560d8f4",
   "metadata": {},
   "outputs": [
    {
     "name": "stdout",
     "output_type": "stream",
     "text": [
      "Please go to this URL and login: https://auth.test.globuscs.info/v2/oauth2/authorize?client_id=8e6ad92c-7a24-4d2b-933f-36d97297d36c&redirect_uri=https%3A%2F%2Fauth.test.globuscs.info%2Fv2%2Fweb%2Fauth-code&scope=openid+profile%5Burn%3Aglobus%3Aauth%3Ascope%3Agroups.api.globus.org%3Aall%5B%2Aopenid%5D%5D&state=_default&response_type=code&code_challenge=a7ipAdPslubGTu2j_UCwedDwBfxrF6yM0mve4TsZc-Q&code_challenge_method=S256&access_type=online\n"
     ]
    }
   ],
   "source": [
    "## Default authorization\n",
    "authorize({}, scopes)"
   ]
  },
  {
   "cell_type": "code",
   "execution_count": 5,
   "id": "696525ad-3a7c-4109-b0df-f60b7273ec74",
   "metadata": {},
   "outputs": [
    {
     "name": "stdout",
     "output_type": "stream",
     "text": [
      "Please go to this URL and login: https://auth.test.globuscs.info/v2/oauth2/authorize?client_id=8e6ad92c-7a24-4d2b-933f-36d97297d36c&redirect_uri=https%3A%2F%2Fauth.test.globuscs.info%2Fv2%2Fweb%2Fauth-code&scope=openid+profile%5Burn%3Aglobus%3Aauth%3Ascope%3Agroups.api.globus.org%3Aall%5B%2Aopenid%5D%5D&state=_default&response_type=code&code_challenge=FoYHANSjP57pgaQ1_ENovEBv0bUcoh0iZ4wEtTeynbE&code_challenge_method=S256&access_type=online&prompt=login\n"
     ]
    }
   ],
   "source": [
    "## Force Login with prompt=login\n",
    "authorize({'prompt': 'login'}, scopes)"
   ]
  },
  {
   "cell_type": "code",
   "execution_count": 7,
   "id": "988f3f98-d2e8-4734-8c46-edb770da4267",
   "metadata": {},
   "outputs": [
    {
     "name": "stdout",
     "output_type": "stream",
     "text": [
      "Please go to this URL and login: https://auth.test.globuscs.info/v2/oauth2/authorize?client_id=8e6ad92c-7a24-4d2b-933f-36d97297d36c&redirect_uri=https%3A%2F%2Fauth.test.globuscs.info%2Fv2%2Fweb%2Fauth-code&scope=openid+profile%5Burn%3Aglobus%3Aauth%3Ascope%3Agroups.api.globus.org%3Aall%5B%2Aopenid%5D%5D&state=_default&response_type=code&code_challenge=ZtZQA1J13KY8CQYiRFOhelHex2mRMoc4JeEsmuN6O_Y&code_challenge_method=S256&access_type=offline\n"
     ]
    }
   ],
   "source": [
    "## Offline for a refresh token\n",
    "authorize({'access_type': 'offline'}, scopes)"
   ]
  },
  {
   "cell_type": "code",
   "execution_count": 8,
   "id": "55180a1a-5b4c-463a-b2dc-4d4c87d316b2",
   "metadata": {},
   "outputs": [
    {
     "name": "stdout",
     "output_type": "stream",
     "text": [
      "Please go to this URL and login: https://auth.test.globuscs.info/v2/oauth2/authorize?client_id=8e6ad92c-7a24-4d2b-933f-36d97297d36c&redirect_uri=https%3A%2F%2Fauth.test.globuscs.info%2Fv2%2Fweb%2Fauth-code&scope=openid+profile%5Burn%3Aglobus%3Aauth%3Ascope%3Agroups.api.globus.org%3Aall%5B%2Aopenid%5D%5D&state=_default&response_type=code&code_challenge=0lcSbyfFy4FiS5COPHlSBMHxPGIETKJ_EOU3zpy6Id8&code_challenge_method=S256&access_type=online&session_required_single_domain=uchicago.edu%2Cgoogle.com\n"
     ]
    }
   ],
   "source": [
    "## Requiring domains with session_required_single_domain\n",
    "authorize({'session_required_single_domain': 'uchicago.edu,google.com'}, scopes)"
   ]
  },
  {
   "cell_type": "code",
   "execution_count": 9,
   "id": "7192e43a-bff2-4073-b605-ba32c5b16ade",
   "metadata": {},
   "outputs": [
    {
     "name": "stdout",
     "output_type": "stream",
     "text": [
      "Please go to this URL and login: https://auth.test.globuscs.info/v2/oauth2/authorize?client_id=8e6ad92c-7a24-4d2b-933f-36d97297d36c&redirect_uri=https%3A%2F%2Fauth.test.globuscs.info%2Fv2%2Fweb%2Fauth-code&scope=openid+profile%5Burn%3Aglobus%3Aauth%3Ascope%3Agroups.api.globus.org%3Aall%5B%2Aopenid%5D%5D&state=_default&response_type=code&code_challenge=CDVoK-8xohHxS40dn5mnlTNVIUPojuZM1ALSd6DZtM8&code_challenge_method=S256&access_type=online&session_required_identities=32493104-36fb-425b-8c46-791d592ec9df\n"
     ]
    }
   ],
   "source": [
    "## Requiring a specific identity session with session_required_single_domain\n",
    "authorize({'session_required_identities': '32493104-36fb-425b-8c46-791d592ec9df'}, scopes)"
   ]
  },
  {
   "cell_type": "code",
   "execution_count": 10,
   "id": "37049e49-9a1b-4a5f-ae83-2bde0731e148",
   "metadata": {},
   "outputs": [
    {
     "name": "stdout",
     "output_type": "stream",
     "text": [
      "Please go to this URL and login: https://auth.test.globuscs.info/v2/oauth2/authorize?client_id=8e6ad92c-7a24-4d2b-933f-36d97297d36c&redirect_uri=https%3A%2F%2Fauth.test.globuscs.info%2Fv2%2Fweb%2Fauth-code&scope=openid+profile%5Burn%3Aglobus%3Aauth%3Ascope%3Agroups.api.globus.org%3Aall%5B%2Aopenid%5D%5D&state=_default&response_type=code&code_challenge=Z5Yxb4LRWoEshTWQCa_gXD7ZF2ki21-TECntUsiZzY4&code_challenge_method=S256&access_type=online&session_required_identities=32493104-36fb-425b-8c46-791d592ec9df&session_required_mfa=True\n"
     ]
    }
   ],
   "source": [
    "authorize({\n",
    "  'session_required_identities': '32493104-36fb-425b-8c46-791d592ec9df',\n",
    "  'session_required_mfa': 'True'}, scopes)"
   ]
  },
  {
   "cell_type": "code",
   "execution_count": null,
   "id": "df419ad2-ce44-4623-a62d-16fd4c001fca",
   "metadata": {},
   "outputs": [],
   "source": []
  }
 ],
 "metadata": {
  "kernelspec": {
   "display_name": "Python 3 (ipykernel)",
   "language": "python",
   "name": "python3"
  },
  "language_info": {
   "codemirror_mode": {
    "name": "ipython",
    "version": 3
   },
   "file_extension": ".py",
   "mimetype": "text/x-python",
   "name": "python",
   "nbconvert_exporter": "python",
   "pygments_lexer": "ipython3",
   "version": "3.8.12"
  }
 },
 "nbformat": 4,
 "nbformat_minor": 5
}
